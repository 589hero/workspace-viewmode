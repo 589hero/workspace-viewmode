{
 "cells": [
  {
   "cell_type": "markdown",
   "id": "ee632e55",
   "metadata": {},
   "source": [
    "# Question Generation : Generating question from contexf using T5 model(the Text-To-Text Transfer Transforme).\n",
    "\n",
    "Unlike the BERT-based model, T5 solves the problem by converting all language tasks into text-to-text tasks. \n",
    "\n",
    "![Imgur](https://i.imgur.com/RgLci2K.png)"
   ]
  },
  {
   "cell_type": "markdown",
   "id": "bebeddd8",
   "metadata": {},
   "source": [
    "If you want to check out the project right away and get more information about Question Generation, please refer to the following link!\n",
    "\n",
    "Blog : https://medium.com/ai-network/everyones-ai-explore-ai-model-8-q-a-generate-model-2c8894aaee6a\n",
    "\n",
    "Demo : https://master-question-generation-wook-2.endpoint.ainize.ai/\n",
    "\n",
    "API : https://ainize.ai/Wook-2/question_generation\n",
    "\n",
    "Github : https://github.com/patil-suraj/question_generation"
   ]
  },
  {
   "cell_type": "markdown",
   "id": "a18d06b1",
   "metadata": {},
   "source": [
    "# Installation"
   ]
  },
  {
   "cell_type": "code",
   "execution_count": 1,
   "id": "ebba2550",
   "metadata": {},
   "outputs": [
    {
     "name": "stdout",
     "output_type": "stream",
     "text": [
      "Requirement already satisfied: transformers==3.0.0 in /opt/conda/lib/python3.8/site-packages (3.0.0)\n",
      "Requirement already satisfied: sentencepiece in /opt/conda/lib/python3.8/site-packages (from transformers==3.0.0) (0.1.96)\n",
      "Requirement already satisfied: requests in /opt/conda/lib/python3.8/site-packages (from transformers==3.0.0) (2.26.0)\n",
      "Requirement already satisfied: packaging in /opt/conda/lib/python3.8/site-packages (from transformers==3.0.0) (21.0)\n",
      "Requirement already satisfied: tqdm>=4.27 in /opt/conda/lib/python3.8/site-packages (from transformers==3.0.0) (4.62.3)\n",
      "Requirement already satisfied: sacremoses in /opt/conda/lib/python3.8/site-packages (from transformers==3.0.0) (0.0.46)\n",
      "Requirement already satisfied: tokenizers==0.8.0-rc4 in /opt/conda/lib/python3.8/site-packages (from transformers==3.0.0) (0.8.0rc4)\n",
      "Requirement already satisfied: regex!=2019.12.17 in /opt/conda/lib/python3.8/site-packages (from transformers==3.0.0) (2021.11.2)\n",
      "Requirement already satisfied: filelock in /opt/conda/lib/python3.8/site-packages (from transformers==3.0.0) (0.0.0)\n",
      "Requirement already satisfied: numpy in /opt/conda/lib/python3.8/site-packages (from transformers==3.0.0) (1.19.5)\n",
      "Requirement already satisfied: pyparsing>=2.0.2 in /opt/conda/lib/python3.8/site-packages (from packaging->transformers==3.0.0) (2.4.7)\n",
      "Requirement already satisfied: urllib3<1.27,>=1.21.1 in /opt/conda/lib/python3.8/site-packages (from requests->transformers==3.0.0) (1.26.7)\n",
      "Requirement already satisfied: certifi>=2017.4.17 in /opt/conda/lib/python3.8/site-packages (from requests->transformers==3.0.0) (2021.5.30)\n",
      "Requirement already satisfied: idna<4,>=2.5 in /opt/conda/lib/python3.8/site-packages (from requests->transformers==3.0.0) (3.1)\n",
      "Requirement already satisfied: charset-normalizer~=2.0.0 in /opt/conda/lib/python3.8/site-packages (from requests->transformers==3.0.0) (2.0.0)\n",
      "Requirement already satisfied: six in /opt/conda/lib/python3.8/site-packages (from sacremoses->transformers==3.0.0) (1.15.0)\n",
      "Requirement already satisfied: click in /opt/conda/lib/python3.8/site-packages (from sacremoses->transformers==3.0.0) (8.0.3)\n",
      "Requirement already satisfied: joblib in /opt/conda/lib/python3.8/site-packages (from sacremoses->transformers==3.0.0) (1.1.0)\n",
      "\u001b[33mWARNING: Running pip as the 'root' user can result in broken permissions and conflicting behaviour with the system package manager. It is recommended to use a virtual environment instead: https://pip.pypa.io/warnings/venv\u001b[0m\n"
     ]
    }
   ],
   "source": [
    "!pip install -U transformers==3.0.0"
   ]
  },
  {
   "cell_type": "code",
   "execution_count": 2,
   "id": "e5b75a99",
   "metadata": {},
   "outputs": [
    {
     "name": "stdout",
     "output_type": "stream",
     "text": [
      "/opt/conda/lib/python3.8/runpy.py:127: RuntimeWarning: 'nltk.downloader' found in sys.modules after import of package 'nltk', but prior to execution of 'nltk.downloader'; this may result in unpredictable behaviour\n",
      "  warn(RuntimeWarning(msg))\n",
      "[nltk_data] Downloading package punkt to /root/nltk_data...\n",
      "[nltk_data]   Package punkt is already up-to-date!\n"
     ]
    }
   ],
   "source": [
    "!python -m nltk.downloader punkt"
   ]
  },
  {
   "cell_type": "code",
   "execution_count": 3,
   "id": "b046bf27",
   "metadata": {},
   "outputs": [
    {
     "name": "stdout",
     "output_type": "stream",
     "text": [
      "fatal: destination path 'question_generation' already exists and is not an empty directory.\r\n"
     ]
    }
   ],
   "source": [
    "!git clone https://github.com/patil-suraj/question_generation.git"
   ]
  },
  {
   "cell_type": "code",
   "execution_count": null,
   "id": "9da6db2f",
   "metadata": {},
   "outputs": [],
   "source": []
  },
  {
   "cell_type": "code",
   "execution_count": 4,
   "id": "c154fc86",
   "metadata": {},
   "outputs": [],
   "source": [
    "text = \"Python is an interpreted, high-level, general-purpose programming language. Created by Guido van Rossum \\\n",
    "and first released in 1991, Python's design philosophy emphasizes code \\\n",
    "readability with its notable use of significant whitespace.\"\n",
    "\n",
    "text2 = \"Gravity (from Latin gravitas, meaning 'weight'), or gravitation, is a natural phenomenon by which all \\\n",
    "things with mass or energy—including planets, stars, galaxies, and even light—are brought toward (or gravitate toward) \\\n",
    "one another. On Earth, gravity gives weight to physical objects, and the Moon's gravity causes the ocean tides. \\\n",
    "The gravitational attraction of the original gaseous matter present in the Universe caused it to begin coalescing \\\n",
    "and forming stars and caused the stars to group together into galaxies, so gravity is responsible for many of \\\n",
    "the large-scale structures in the Universe. Gravity has an infinite range, although its effects become increasingly \\\n",
    "weaker as objects get further away\"\n",
    "\n",
    "text3 = \"42 is the answer to life, universe and everything.\"\n",
    "\n",
    "text4 = \"Forrest Gump is a 1994 American comedy-drama film directed by Robert Zemeckis and written by Eric Roth. \\\n",
    "It is based on the 1986 novel of the same name by Winston Groom and stars Tom Hanks, Robin Wright, Gary Sinise, \\\n",
    "Mykelti Williamson and Sally Field. The story depicts several decades in the life of Forrest Gump (Hanks), \\\n",
    "a slow-witted but kind-hearted man from Alabama who witnesses and unwittingly influences several defining \\\n",
    "historical events in the 20th century United States. The film differs substantially from the novel.\""
   ]
  },
  {
   "cell_type": "markdown",
   "id": "19841e20",
   "metadata": {},
   "source": [
    "## Single task : QA(Question Answering)"
   ]
  },
  {
   "cell_type": "code",
   "execution_count": 5,
   "id": "7ea09f4e",
   "metadata": {},
   "outputs": [
    {
     "name": "stdout",
     "output_type": "stream",
     "text": [
      "/workspace/workspace-viewmode/question_generation\n"
     ]
    }
   ],
   "source": [
    "%cd question_generation"
   ]
  },
  {
   "cell_type": "code",
   "execution_count": 6,
   "id": "fd6f69be",
   "metadata": {},
   "outputs": [],
   "source": [
    "from pipelines import pipeline"
   ]
  },
  {
   "cell_type": "code",
   "execution_count": 7,
   "id": "a9e354c1",
   "metadata": {},
   "outputs": [],
   "source": [
    "nlp = pipeline(\"question-generation\")"
   ]
  },
  {
   "cell_type": "code",
   "execution_count": 8,
   "id": "81a2e017",
   "metadata": {},
   "outputs": [
    {
     "name": "stderr",
     "output_type": "stream",
     "text": [
      "/opt/conda/lib/python3.8/site-packages/torch/_tensor.py:575: UserWarning: floor_divide is deprecated, and will be removed in a future version of pytorch. It currently rounds toward 0 (like the 'trunc' function NOT 'floor'). This results in incorrect rounding for negative values.\n",
      "To keep the current behavior, use torch.div(a, b, rounding_mode='trunc'), or for actual floor division, use torch.div(a, b, rounding_mode='floor'). (Triggered internally at  /pytorch/aten/src/ATen/native/BinaryOps.cpp:467.)\n",
      "  return torch.floor_divide(self, other)\n"
     ]
    },
    {
     "data": {
      "text/plain": [
       "[{'answer': '42',\n",
       "  'question': 'What is the answer to life, universe and everything?'}]"
      ]
     },
     "execution_count": 8,
     "metadata": {},
     "output_type": "execute_result"
    }
   ],
   "source": [
    "nlp(text3)"
   ]
  },
  {
   "cell_type": "code",
   "execution_count": 9,
   "id": "369103a0",
   "metadata": {},
   "outputs": [],
   "source": [
    "nlp = pipeline(\"question-generation\", model=\"valhalla/t5-base-qg-hl\")"
   ]
  },
  {
   "cell_type": "code",
   "execution_count": 10,
   "id": "f6844681",
   "metadata": {},
   "outputs": [
    {
     "data": {
      "text/plain": [
       "[{'answer': '42',\n",
       "  'question': 'What is the answer to life, universe and everything?'}]"
      ]
     },
     "execution_count": 10,
     "metadata": {},
     "output_type": "execute_result"
    }
   ],
   "source": [
    "nlp(text3)"
   ]
  },
  {
   "cell_type": "code",
   "execution_count": 11,
   "id": "44ee4aa3",
   "metadata": {},
   "outputs": [
    {
     "data": {
      "text/plain": [
       "[{'answer': 'Robert Zemeckis', 'question': 'Who directed Forrest Gump?'},\n",
       " {'answer': 'Eric Roth', 'question': 'Who wrote Forrest Gump?'},\n",
       " {'answer': '1986',\n",
       "  'question': \"In what year was Winston Groom's novel published?\"},\n",
       " {'answer': 'Alabama', 'question': 'Where is Forrest Gump from?'},\n",
       " {'answer': 'differs substantially from the novel',\n",
       "  'question': 'How does Forrest Gump compare to the novel?'}]"
      ]
     },
     "execution_count": 11,
     "metadata": {},
     "output_type": "execute_result"
    }
   ],
   "source": [
    "nlp(text4)"
   ]
  },
  {
   "cell_type": "code",
   "execution_count": 12,
   "id": "4c462094",
   "metadata": {},
   "outputs": [
    {
     "data": {
      "text/plain": [
       "[{'answer': 'gravitation', 'question': 'What is another name for gravity?'},\n",
       " {'answer': 'Earth',\n",
       "  'question': 'On what planet does gravity give weight to physical objects?'},\n",
       " {'answer': 'galaxies', 'question': 'What do the stars in the Universe form?'},\n",
       " {'answer': 'infinite range', 'question': 'What is the range of gravity?'}]"
      ]
     },
     "execution_count": 12,
     "metadata": {},
     "output_type": "execute_result"
    }
   ],
   "source": [
    "nlp(text2)"
   ]
  },
  {
   "cell_type": "code",
   "execution_count": null,
   "id": "24a12390",
   "metadata": {},
   "outputs": [],
   "source": []
  },
  {
   "cell_type": "markdown",
   "id": "ef9d29cd",
   "metadata": {},
   "source": [
    "## Multitask : QA-QG(Question Generation)"
   ]
  },
  {
   "cell_type": "markdown",
   "id": "79a55bf3",
   "metadata": {},
   "source": [
    "### Small model"
   ]
  },
  {
   "cell_type": "code",
   "execution_count": 13,
   "id": "25b73fad",
   "metadata": {},
   "outputs": [],
   "source": [
    "nlp = pipeline(\"multitask-qa-qg\")"
   ]
  },
  {
   "cell_type": "markdown",
   "id": "a1a473f3",
   "metadata": {},
   "source": [
    "### QG"
   ]
  },
  {
   "cell_type": "code",
   "execution_count": 14,
   "id": "7dbd6c62",
   "metadata": {},
   "outputs": [
    {
     "data": {
      "text/plain": [
       "[{'answer': 'Python',\n",
       "  'question': 'What is an interpreted, high-level, general-purpose programming language?'},\n",
       " {'answer': 'Guido van Rossum', 'question': 'Who created Python?'}]"
      ]
     },
     "execution_count": 14,
     "metadata": {},
     "output_type": "execute_result"
    }
   ],
   "source": [
    "nlp(text)"
   ]
  },
  {
   "cell_type": "code",
   "execution_count": 15,
   "id": "d041a1a4",
   "metadata": {},
   "outputs": [
    {
     "data": {
      "text/plain": [
       "[{'answer': 'gravitation',\n",
       "  'question': 'What is a natural phenomenon called when all things with mass or energy are brought toward one another?'},\n",
       " {'answer': 'Earth',\n",
       "  'question': 'On what planet does gravity give weight to physical objects?'},\n",
       " {'answer': 'galaxies', 'question': 'What did the stars group together into?'},\n",
       " {'answer': 'infinite range',\n",
       "  'question': 'What kind of range does Gravity have?'}]"
      ]
     },
     "execution_count": 15,
     "metadata": {},
     "output_type": "execute_result"
    }
   ],
   "source": [
    "nlp(text2)"
   ]
  },
  {
   "cell_type": "code",
   "execution_count": 16,
   "id": "95ac71de",
   "metadata": {},
   "outputs": [
    {
     "data": {
      "text/plain": [
       "[{'answer': 'Robert Zemeckis', 'question': 'Who directed Forrest Gump?'},\n",
       " {'answer': 'Eric Roth', 'question': 'Who wrote Forrest Gump?'},\n",
       " {'answer': '1986', 'question': 'In what year was Forrest Gump based?'},\n",
       " {'answer': 'Alabama', 'question': 'Where is Forrest Gump from?'},\n",
       " {'answer': 'differs substantially from the novel',\n",
       "  'question': 'What does Forrest Gump differ from the novel?'}]"
      ]
     },
     "execution_count": 16,
     "metadata": {},
     "output_type": "execute_result"
    }
   ],
   "source": [
    "nlp(text4)"
   ]
  },
  {
   "cell_type": "code",
   "execution_count": null,
   "id": "f2c31baa",
   "metadata": {},
   "outputs": [],
   "source": []
  },
  {
   "cell_type": "markdown",
   "id": "9ddecf9f",
   "metadata": {},
   "source": [
    "### QA"
   ]
  },
  {
   "cell_type": "code",
   "execution_count": 17,
   "id": "c56b281a",
   "metadata": {},
   "outputs": [
    {
     "data": {
      "text/plain": [
       "'Guido van Rossum'"
      ]
     },
     "execution_count": 17,
     "metadata": {},
     "output_type": "execute_result"
    }
   ],
   "source": [
    "nlp({\n",
    "  \"question\": \"Who created Python ?\",\n",
    "  \"context\": text\n",
    "})"
   ]
  },
  {
   "cell_type": "code",
   "execution_count": 18,
   "id": "936c064a",
   "metadata": {},
   "outputs": [
    {
     "data": {
      "text/plain": [
       "'Eric Roth'"
      ]
     },
     "execution_count": 18,
     "metadata": {},
     "output_type": "execute_result"
    }
   ],
   "source": [
    "nlp({\n",
    "    \"question\": \"Who wrote Forrest Gump ?\",\n",
    "     \"context\": text4\n",
    "})"
   ]
  },
  {
   "cell_type": "code",
   "execution_count": null,
   "id": "4cc27354",
   "metadata": {},
   "outputs": [],
   "source": []
  },
  {
   "cell_type": "markdown",
   "id": "8a622454",
   "metadata": {},
   "source": [
    "### t5-base-model"
   ]
  },
  {
   "cell_type": "code",
   "execution_count": 19,
   "id": "ac039f92",
   "metadata": {},
   "outputs": [],
   "source": [
    "nlp = pipeline(\"multitask-qa-qg\", model=\"valhalla/t5-base-qa-qg-hl\")"
   ]
  },
  {
   "cell_type": "markdown",
   "id": "e4c137d0",
   "metadata": {},
   "source": [
    "### QG"
   ]
  },
  {
   "cell_type": "code",
   "execution_count": 20,
   "id": "73ccc04e",
   "metadata": {},
   "outputs": [
    {
     "data": {
      "text/plain": [
       "[{'answer': 'Python',\n",
       "  'question': 'What programming language was created by Guido van Rossum?'},\n",
       " {'answer': 'Guido van Rossum', 'question': 'Who created Python?'},\n",
       " {'answer': '1991', 'question': 'When was Python first released?'}]"
      ]
     },
     "execution_count": 20,
     "metadata": {},
     "output_type": "execute_result"
    }
   ],
   "source": [
    "nlp(text)"
   ]
  },
  {
   "cell_type": "code",
   "execution_count": 21,
   "id": "129a2287",
   "metadata": {},
   "outputs": [
    {
     "data": {
      "text/plain": [
       "[{'answer': 'gravitation', 'question': 'What is another name for gravity?'},\n",
       " {'answer': 'Earth',\n",
       "  'question': 'On what planet does gravity give weight to physical objects?'},\n",
       " {'answer': 'galaxies', 'question': 'What do the stars form into?'},\n",
       " {'answer': 'weaker',\n",
       "  'question': \"Gravity's effects become what as objects get further away?\"}]"
      ]
     },
     "execution_count": 21,
     "metadata": {},
     "output_type": "execute_result"
    }
   ],
   "source": [
    "nlp(text2)"
   ]
  },
  {
   "cell_type": "code",
   "execution_count": 22,
   "id": "20509b51",
   "metadata": {},
   "outputs": [
    {
     "data": {
      "text/plain": [
       "[{'answer': '1994', 'question': 'When was Forrest Gump released?'},\n",
       " {'answer': '1986',\n",
       "  'question': \"In what year was Winston Groom's novel based on Forrest Gump?\"},\n",
       " {'answer': 'Alabama', 'question': 'Where is Forrest Gump from?'},\n",
       " {'answer': 'novel',\n",
       "  'question': 'Forrest Gump differs substantially from what?'}]"
      ]
     },
     "execution_count": 22,
     "metadata": {},
     "output_type": "execute_result"
    }
   ],
   "source": [
    "nlp(text4)"
   ]
  },
  {
   "cell_type": "code",
   "execution_count": null,
   "id": "b25340f8",
   "metadata": {},
   "outputs": [],
   "source": []
  },
  {
   "cell_type": "markdown",
   "id": "e7730386",
   "metadata": {},
   "source": [
    "### QA"
   ]
  },
  {
   "cell_type": "code",
   "execution_count": 23,
   "id": "f1fca1de",
   "metadata": {},
   "outputs": [
    {
     "data": {
      "text/plain": [
       "'Guido van Rossum'"
      ]
     },
     "execution_count": 23,
     "metadata": {},
     "output_type": "execute_result"
    }
   ],
   "source": [
    "nlp({\n",
    "  \"question\": \"Who created Python ?\",\n",
    "  \"context\": text\n",
    "})"
   ]
  },
  {
   "cell_type": "code",
   "execution_count": 24,
   "id": "f105af2f",
   "metadata": {},
   "outputs": [
    {
     "data": {
      "text/plain": [
       "'Eric Roth'"
      ]
     },
     "execution_count": 24,
     "metadata": {},
     "output_type": "execute_result"
    }
   ],
   "source": [
    "nlp({\n",
    "    \"question\": \"Who wrote Forrest Gump ?\",\n",
    "     \"context\": text4\n",
    "})"
   ]
  },
  {
   "cell_type": "code",
   "execution_count": null,
   "id": "f8299802",
   "metadata": {},
   "outputs": [],
   "source": []
  },
  {
   "cell_type": "markdown",
   "id": "028bad29",
   "metadata": {},
   "source": [
    "## End-to-End QG"
   ]
  },
  {
   "cell_type": "markdown",
   "id": "b3bdf54f",
   "metadata": {},
   "source": [
    "### t5-small model"
   ]
  },
  {
   "cell_type": "code",
   "execution_count": 25,
   "id": "6a00e997",
   "metadata": {},
   "outputs": [],
   "source": [
    "nlp = pipeline(\"e2e-qg\")"
   ]
  },
  {
   "cell_type": "code",
   "execution_count": 26,
   "id": "56409206",
   "metadata": {},
   "outputs": [
    {
     "data": {
      "text/plain": [
       "['Who created Python?',\n",
       " 'When was Python first released?',\n",
       " \"What is Python's design philosophy?\"]"
      ]
     },
     "execution_count": 26,
     "metadata": {},
     "output_type": "execute_result"
    }
   ],
   "source": [
    "nlp(text)"
   ]
  },
  {
   "cell_type": "code",
   "execution_count": 27,
   "id": "ab0043b4",
   "metadata": {},
   "outputs": [
    {
     "data": {
      "text/plain": [
       "['What is the Latin word for gravitas?',\n",
       " 'What does gravity give weight to on Earth?',\n",
       " \"The Moon's gravity causes what?\",\n",
       " 'Gravity has an infinite range, but its effects become weaker as objects get further away?']"
      ]
     },
     "execution_count": 27,
     "metadata": {},
     "output_type": "execute_result"
    }
   ],
   "source": [
    "nlp(text2)"
   ]
  },
  {
   "cell_type": "code",
   "execution_count": 28,
   "id": "78aaf9bb",
   "metadata": {},
   "outputs": [
    {
     "data": {
      "text/plain": [
       "['Who directed the 1994 American comedy-drama film Forrest Gump?',\n",
       " 'What is the name of the 1986 film that stars Tom Hanks, Robin Wright, Gary Sinise, Mykelti Williamson, and Sally Field?',\n",
       " 'Who is the author of the 1994 film forrest gump? What is Forrest a film that is based on?']"
      ]
     },
     "execution_count": 28,
     "metadata": {},
     "output_type": "execute_result"
    }
   ],
   "source": [
    "nlp(text4)"
   ]
  },
  {
   "cell_type": "code",
   "execution_count": null,
   "id": "43bd7401",
   "metadata": {},
   "outputs": [],
   "source": []
  },
  {
   "cell_type": "markdown",
   "id": "de8fdc00",
   "metadata": {},
   "source": [
    "### base-model"
   ]
  },
  {
   "cell_type": "code",
   "execution_count": null,
   "id": "1302233e",
   "metadata": {},
   "outputs": [],
   "source": [
    "nlp = pipeline(\"e2e-qg\", model=\"valhalla/t5-base-e2e-qg\")"
   ]
  },
  {
   "cell_type": "code",
   "execution_count": null,
   "id": "f5df8b05",
   "metadata": {},
   "outputs": [],
   "source": [
    "nlp(text)"
   ]
  },
  {
   "cell_type": "code",
   "execution_count": null,
   "id": "9dcfdf60",
   "metadata": {},
   "outputs": [],
   "source": [
    "nlp(text2)"
   ]
  },
  {
   "cell_type": "code",
   "execution_count": null,
   "id": "a8f9a886",
   "metadata": {},
   "outputs": [],
   "source": [
    "nlp(text4)"
   ]
  },
  {
   "cell_type": "code",
   "execution_count": null,
   "id": "1584491d",
   "metadata": {},
   "outputs": [],
   "source": []
  },
  {
   "cell_type": "markdown",
   "id": "cd5ce994",
   "metadata": {},
   "source": [
    "# License"
   ]
  },
  {
   "cell_type": "markdown",
   "id": "5ebcafcd",
   "metadata": {},
   "source": [
    "MIT License\n",
    "\n",
    "Copyright (c) 2020 Suraj Patil\n",
    "\n",
    "Permission is hereby granted, free of charge, to any person obtaining a copy\n",
    "of this software and associated documentation files (the \"Software\"), to deal\n",
    "in the Software without restriction, including without limitation the rights\n",
    "to use, copy, modify, merge, publish, distribute, sublicense, and/or sell\n",
    "copies of the Software, and to permit persons to whom the Software is\n",
    "furnished to do so, subject to the following conditions:\n",
    "\n",
    "The above copyright notice and this permission notice shall be included in all\n",
    "copies or substantial portions of the Software.\n",
    "\n",
    "THE SOFTWARE IS PROVIDED \"AS IS\", WITHOUT WARRANTY OF ANY KIND, EXPRESS OR\n",
    "IMPLIED, INCLUDING BUT NOT LIMITED TO THE WARRANTIES OF MERCHANTABILITY,\n",
    "FITNESS FOR A PARTICULAR PURPOSE AND NONINFRINGEMENT. IN NO EVENT SHALL THE\n",
    "AUTHORS OR COPYRIGHT HOLDERS BE LIABLE FOR ANY CLAIM, DAMAGES OR OTHER\n",
    "LIABILITY, WHETHER IN AN ACTION OF CONTRACT, TORT OR OTHERWISE, ARISING FROM,\n",
    "OUT OF OR IN CONNECTION WITH THE SOFTWARE OR THE USE OR OTHER DEALINGS IN THE\n",
    "SOFTWARE."
   ]
  }
 ],
 "metadata": {
  "kernelspec": {
   "display_name": "Python 3 (ipykernel)",
   "language": "python",
   "name": "python3"
  },
  "language_info": {
   "codemirror_mode": {
    "name": "ipython",
    "version": 3
   },
   "file_extension": ".py",
   "mimetype": "text/x-python",
   "name": "python",
   "nbconvert_exporter": "python",
   "pygments_lexer": "ipython3",
   "version": "3.8.10"
  }
 },
 "nbformat": 4,
 "nbformat_minor": 5
}
